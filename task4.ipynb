{
  "nbformat": 4,
  "nbformat_minor": 0,
  "metadata": {
    "colab": {
      "name": "Untitled5.ipynb",
      "provenance": [],
      "authorship_tag": "ABX9TyND3wfZHqck3f0QKHlmQYuC",
      "include_colab_link": true
    },
    "kernelspec": {
      "name": "python3",
      "display_name": "Python 3"
    }
  },
  "cells": [
    {
      "cell_type": "markdown",
      "metadata": {
        "id": "view-in-github",
        "colab_type": "text"
      },
      "source": [
        "<a href=\"https://colab.research.google.com/github/ankur112358/Python_Task/blob/master/task4.ipynb\" target=\"_parent\"><img src=\"https://colab.research.google.com/assets/colab-badge.svg\" alt=\"Open In Colab\"/></a>"
      ]
    },
    {
      "cell_type": "code",
      "metadata": {
        "id": "9-l3vLPXi1BQ",
        "colab_type": "code",
        "colab": {
          "base_uri": "https://localhost:8080/",
          "height": 34
        },
        "outputId": "3c57f6f3-e54e-45e4-feed-d860201ac37e"
      },
      "source": [
        "#1\n",
        "def reverseString(string):\n",
        "  return string[::-1]\n",
        "\n",
        "print(reverseString('Hello World'))"
      ],
      "execution_count": null,
      "outputs": [
        {
          "output_type": "stream",
          "text": [
            "dlroW olleH\n"
          ],
          "name": "stdout"
        }
      ]
    },
    {
      "cell_type": "code",
      "metadata": {
        "id": "8CcaOb3ZjUEC",
        "colab_type": "code",
        "colab": {
          "base_uri": "https://localhost:8080/",
          "height": 68
        },
        "outputId": "de2be38a-f146-4f01-ec02-9799770ca7f5"
      },
      "source": [
        "#2\n",
        "def upperOrLower(string):\n",
        "  u=l=0\n",
        "  for char in string:\n",
        "    if not char.isalpha(): continue\n",
        "    if char.isupper():u+=1\n",
        "    else: l+=1\n",
        "  return u,l\n",
        "\n",
        "a,b=upperOrLower('Avinash123')\n",
        "print(f'Expected Output:\\nNo. of Upper case characters {a}\\nNo. of lower case characters {b}')"
      ],
      "execution_count": null,
      "outputs": [
        {
          "output_type": "stream",
          "text": [
            "Expected Output:\n",
            "No. of Upper case characters 1\n",
            "No. of lower case characters 6\n"
          ],
          "name": "stdout"
        }
      ]
    },
    {
      "cell_type": "code",
      "metadata": {
        "id": "a9KymlDAmNzE",
        "colab_type": "code",
        "colab": {
          "base_uri": "https://localhost:8080/",
          "height": 34
        },
        "outputId": "a5cea9f7-034d-45db-c9ed-5d2b481b3a78"
      },
      "source": [
        "#3\n",
        "def uniq(l):\n",
        "  return list(set(l))\n",
        "\n",
        "a=[1,1,2,3,4,3,2,5,0]\n",
        "print(f'the unique elements in the list {a} are {uniq(a)}')"
      ],
      "execution_count": null,
      "outputs": [
        {
          "output_type": "stream",
          "text": [
            "the unique elements in the list [1, 1, 2, 3, 4, 3, 2, 5, 0] are [0, 1, 2, 3, 4, 5]\n"
          ],
          "name": "stdout"
        }
      ]
    },
    {
      "cell_type": "code",
      "metadata": {
        "id": "ncUEtWLtmlqC",
        "colab_type": "code",
        "colab": {
          "base_uri": "https://localhost:8080/",
          "height": 51
        },
        "outputId": "79a7281b-4ca6-4f59-b371-995be2174b04"
      },
      "source": [
        "#4\n",
        "def hyphenSort(string):\n",
        "  s=string.split('-')\n",
        "  s.sort()\n",
        "  return '-'.join(s)\n",
        "a='sample-input-with-hyphens--'\n",
        "print(f'input: {a}\\nsorted: {hyphenSort(a)}')\n"
      ],
      "execution_count": null,
      "outputs": [
        {
          "output_type": "stream",
          "text": [
            "input: sample-input-with-hyphens--\n",
            "sorted: --hyphens-input-sample-with\n"
          ],
          "name": "stdout"
        }
      ]
    },
    {
      "cell_type": "code",
      "metadata": {
        "id": "5CMXpdHWn1EG",
        "colab_type": "code",
        "colab": {
          "base_uri": "https://localhost:8080/",
          "height": 34
        },
        "outputId": "94c71383-18df-4511-a53c-5c1cf7ccae9d"
      },
      "source": [
        "#5\n",
        "def capitalize(l):\n",
        "  for i,sentence in enumerate(l):\n",
        "    l[i]=sentence.upper()\n",
        "  return l\n",
        "a=['Hello world','Practice makes perfect']\n",
        "out=capitalize(a)\n",
        "print(out)\n"
      ],
      "execution_count": null,
      "outputs": [
        {
          "output_type": "stream",
          "text": [
            "['HELLO WORLD', 'PRACTICE MAKES PERFECT']\n"
          ],
          "name": "stdout"
        }
      ]
    },
    {
      "cell_type": "code",
      "metadata": {
        "id": "-Nu5cQwtqTAT",
        "colab_type": "code",
        "colab": {
          "base_uri": "https://localhost:8080/",
          "height": 68
        },
        "outputId": "ba7400f5-ac35-4570-e5f0-dfe3eccc628f"
      },
      "source": [
        "#6\n",
        "in1=int(input('enter first integer '))\n",
        "in2=int(input('enter second integer '))\n",
        "print(f'the sum of {in1} and {in2} is {in1+in2}')"
      ],
      "execution_count": null,
      "outputs": [
        {
          "output_type": "stream",
          "text": [
            "enter first integer 12\n",
            "enter second integer 2\n",
            "the sum of 12 and 2 is 14\n"
          ],
          "name": "stdout"
        }
      ]
    },
    {
      "cell_type": "code",
      "metadata": {
        "id": "bWStYUfDqvJ0",
        "colab_type": "code",
        "colab": {
          "base_uri": "https://localhost:8080/",
          "height": 34
        },
        "outputId": "8a4a6467-4ca0-4a81-c515-3f1861a0966e"
      },
      "source": [
        "#7\n",
        "def longer(s1,s2):\n",
        "  if len(s1)==len(s2):\n",
        "    print(s1)\n",
        "    print(s2)\n",
        "    return\n",
        "  if len(s1)>len(s2): print(s1)\n",
        "  else: print(s2)\n",
        "  return\n",
        "longer('Avinash','Ankur')"
      ],
      "execution_count": null,
      "outputs": [
        {
          "output_type": "stream",
          "text": [
            "Avinash\n"
          ],
          "name": "stdout"
        }
      ]
    },
    {
      "cell_type": "code",
      "metadata": {
        "id": "t20eU5SgrRIn",
        "colab_type": "code",
        "colab": {
          "base_uri": "https://localhost:8080/",
          "height": 54
        },
        "outputId": "416e76d5-e6dd-4f59-ee8e-825b5c137007"
      },
      "source": [
        "#8\n",
        "def helper():\n",
        "  l=[(x,x**2) for x in range(1,21)]\n",
        "  print(l)\n",
        "  return\n",
        "helper()\n"
      ],
      "execution_count": null,
      "outputs": [
        {
          "output_type": "stream",
          "text": [
            "[(1, 1), (2, 4), (3, 9), (4, 16), (5, 25), (6, 36), (7, 49), (8, 64), (9, 81), (10, 100), (11, 121), (12, 144), (13, 169), (14, 196), (15, 225), (16, 256), (17, 289), (18, 324), (19, 361), (20, 400)]\n"
          ],
          "name": "stdout"
        }
      ]
    },
    {
      "cell_type": "code",
      "metadata": {
        "id": "rU67XwGgrzqa",
        "colab_type": "code",
        "colab": {
          "base_uri": "https://localhost:8080/",
          "height": 204
        },
        "outputId": "6dd910ac-1a95-466e-92f2-b5590e5a628f"
      },
      "source": [
        "#9\n",
        "def showNumbers (num):\n",
        "  if num<0:return\n",
        "  a=['EVEN','ODD']\n",
        "  for x in range(num+1):\n",
        "    print(f'{x} {a[x%2]}')\n",
        "  return\n",
        "showNumbers(10)"
      ],
      "execution_count": null,
      "outputs": [
        {
          "output_type": "stream",
          "text": [
            "0 EVEN\n",
            "1 ODD\n",
            "2 EVEN\n",
            "3 ODD\n",
            "4 EVEN\n",
            "5 ODD\n",
            "6 EVEN\n",
            "7 ODD\n",
            "8 EVEN\n",
            "9 ODD\n",
            "10 EVEN\n"
          ],
          "name": "stdout"
        }
      ]
    },
    {
      "cell_type": "code",
      "metadata": {
        "id": "tsfD99BbsXdY",
        "colab_type": "code",
        "colab": {
          "base_uri": "https://localhost:8080/",
          "height": 51
        },
        "outputId": "9ef2cc7e-069a-427f-e476-ab665fe83aae"
      },
      "source": [
        "#10\n",
        "def filterEven():\n",
        "  a=[]\n",
        "  for x in range(1,21):\n",
        "    if not x%2: a.append(x)\n",
        "  return a\n",
        "\n",
        "print(filterEven())\n",
        "\n",
        "def even(num):\n",
        "  return not num%2\n",
        "l=[_ for _ in range(1,21)]\n",
        "# l=list(filter(even,l))\n",
        "l=list(filter(lambda x: not x%2, l))\n",
        "print(l)"
      ],
      "execution_count": 2,
      "outputs": [
        {
          "output_type": "stream",
          "text": [
            "[2, 4, 6, 8, 10, 12, 14, 16, 18, 20]\n",
            "[2, 4, 6, 8, 10, 12, 14, 16, 18, 20]\n"
          ],
          "name": "stdout"
        }
      ]
    },
    {
      "cell_type": "code",
      "metadata": {
        "id": "ti-wsrfQs2BG",
        "colab_type": "code",
        "colab": {
          "base_uri": "https://localhost:8080/",
          "height": 34
        },
        "outputId": "a839f115-3b04-4417-f701-9dc5fb9f3369"
      },
      "source": [
        "#11\n",
        "import math\n",
        "l=[1,2,3,4,5,6,7,8,9,10]\n",
        "l2=list(map(lambda x:x*x,l))\n",
        "l=list(filter(lambda x: math.sqrt(x)%2==0, l2))\n",
        "print(l)"
      ],
      "execution_count": 6,
      "outputs": [
        {
          "output_type": "stream",
          "text": [
            "[4, 16, 36, 64, 100]\n"
          ],
          "name": "stdout"
        }
      ]
    },
    {
      "cell_type": "code",
      "metadata": {
        "id": "3zmwRUJqsz6V",
        "colab_type": "code",
        "colab": {
          "base_uri": "https://localhost:8080/",
          "height": 34
        },
        "outputId": "1ee2d454-a1b9-44f2-8f79-233e581fbd12"
      },
      "source": [
        "#12\n",
        "a,b=5,0\n",
        "try:\n",
        "  c=a/b\n",
        "except ZeroDivisionError:\n",
        "  print('the dividend is zero')\n",
        "else:\n",
        "  print(c)"
      ],
      "execution_count": 8,
      "outputs": [
        {
          "output_type": "stream",
          "text": [
            "5.0\n"
          ],
          "name": "stdout"
        }
      ]
    },
    {
      "cell_type": "code",
      "metadata": {
        "id": "6BTshIDD8YFD",
        "colab_type": "code",
        "colab": {
          "base_uri": "https://localhost:8080/",
          "height": 34
        },
        "outputId": "21ce138f-6019-4093-f9e4-33e8f607101b"
      },
      "source": [
        "#13\n",
        "import functools\n",
        "l=[[1,2,3],[4,5],[6,7,8]] \n",
        "# l=[1,2,3,4,5,6,7]\n",
        "l2=functools.reduce(lambda x,y: x+y,l)\n",
        "print(l2)"
      ],
      "execution_count": 14,
      "outputs": [
        {
          "output_type": "stream",
          "text": [
            "[1, 2, 3, 4, 5, 6, 7, 8]\n"
          ],
          "name": "stdout"
        }
      ]
    },
    {
      "cell_type": "code",
      "metadata": {
        "id": "GVCj9eGD9qAY",
        "colab_type": "code",
        "colab": {
          "base_uri": "https://localhost:8080/",
          "height": 34
        },
        "outputId": "c5933fc3-a54d-4af3-ec40-41f93a037997"
      },
      "source": [
        "#14 a\n",
        "#a - output - 1\n",
        "def foo():\n",
        "  try:\n",
        "    return 1\n",
        "  except:\n",
        "    return 2\n",
        "k=foo()\n",
        "print(k)\n"
      ],
      "execution_count": 15,
      "outputs": [
        {
          "output_type": "stream",
          "text": [
            "1\n"
          ],
          "name": "stdout"
        }
      ]
    },
    {
      "cell_type": "code",
      "metadata": {
        "id": "Yic0tLLn-c1a",
        "colab_type": "code",
        "colab": {
          "base_uri": "https://localhost:8080/",
          "height": 68
        },
        "outputId": "532bf04e-5bbf-45ea-9589-cbf564a9eb96"
      },
      "source": [
        "#14 b\n",
        "#output\n",
        "# output of f\n",
        "# after f\n",
        "# after f?\n",
        "def a():\n",
        "  x=10\n",
        "  try:\n",
        "    f(x,4)\n",
        "  finally:\n",
        "    print('after f')\n",
        "  print('after f?')\n",
        "\n",
        "def f(x,y):\n",
        "  print(f'inside the function f {x},{y}')\n",
        "a()"
      ],
      "execution_count": 20,
      "outputs": [
        {
          "output_type": "stream",
          "text": [
            "inside the function f 10,4\n",
            "after f\n",
            "after f?\n"
          ],
          "name": "stdout"
        }
      ]
    }
  ]
}