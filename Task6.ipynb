{
  "nbformat": 4,
  "nbformat_minor": 0,
  "metadata": {
    "colab": {
      "name": "Task6.ipynb",
      "provenance": [],
      "authorship_tag": "ABX9TyNP+Ebguuh52FcKXkvqsjh7",
      "include_colab_link": true
    },
    "kernelspec": {
      "name": "python3",
      "display_name": "Python 3"
    }
  },
  "cells": [
    {
      "cell_type": "markdown",
      "metadata": {
        "id": "view-in-github",
        "colab_type": "text"
      },
      "source": [
        "<a href=\"https://colab.research.google.com/github/ankur112358/Python_Task/blob/master/Task6.ipynb\" target=\"_parent\"><img src=\"https://colab.research.google.com/assets/colab-badge.svg\" alt=\"Open In Colab\"/></a>"
      ]
    },
    {
      "cell_type": "code",
      "metadata": {
        "id": "keiW7jE801qJ",
        "colab_type": "code",
        "colab": {
          "base_uri": "https://localhost:8080/",
          "height": 34
        },
        "outputId": "a439127f-e032-45d7-c1ba-dad1dd2e8a3b"
      },
      "source": [
        "#1\n",
        "x=1\n",
        "try:\n",
        "  eval('x===x')\n",
        "except SyntaxError as error:\n",
        "  print('Invalid syntax - ',error)"
      ],
      "execution_count": null,
      "outputs": [
        {
          "output_type": "stream",
          "text": [
            "Invalid syntax invalid syntax (<string>, line 1)\n"
          ],
          "name": "stdout"
        }
      ]
    },
    {
      "cell_type": "markdown",
      "metadata": {
        "id": "46v4FwbE05Nw",
        "colab_type": "text"
      },
      "source": [
        "SyntaxError can be caught if it's thrown out of an eval, exec, or import operations only.\n",
        "\n",
        "Having a syntax error in any other way gets caught while compilation of the code. before the execution of the try block."
      ]
    },
    {
      "cell_type": "code",
      "metadata": {
        "id": "J43GPzr02UM0",
        "colab_type": "code",
        "colab": {
          "base_uri": "https://localhost:8080/",
          "height": 50
        },
        "outputId": "791d928e-3b94-4689-9496-b87d2f447042"
      },
      "source": [
        "#2\n",
        "def function(*argv):\n",
        "  for item in argv:\n",
        "    try:\n",
        "      f=open(item,'r')\n",
        "    except OSError as error:\n",
        "      print(f'OS Error :{error}')\n",
        "    else:\n",
        "      print(f'Opened the file {item}')\n",
        "  return\n",
        "function('employment_details_form.txt','ga.py.txt')\n"
      ],
      "execution_count": 5,
      "outputs": [
        {
          "output_type": "stream",
          "text": [
            "OS Error :[Errno 2] No such file or directory: 'employment_details_form.txt'\n",
            "Opened the file ga.py.txt\n"
          ],
          "name": "stdout"
        }
      ]
    },
    {
      "cell_type": "code",
      "metadata": {
        "id": "XVhPA6WQ2vzl",
        "colab_type": "code",
        "colab": {
          "base_uri": "https://localhost:8080/",
          "height": 50
        },
        "outputId": "87f6837d-2f3e-4734-ce86-1f7c089ad2c4"
      },
      "source": [
        "#3\n",
        "while True:\n",
        "  inp=int(input(\"Please enter a number in range 0 to 9999:\"))\n",
        "  if inp>9999 or inp<0:\n",
        "    print( \"Please length is too short/long !!! Please provide only four digits\")\n",
        "  else:\n",
        "    break\n",
        "print(inp)"
      ],
      "execution_count": 9,
      "outputs": [
        {
          "output_type": "stream",
          "text": [
            "Please enter a number in range 0 to 9999:1\n",
            "1\n"
          ],
          "name": "stdout"
        }
      ]
    },
    {
      "cell_type": "code",
      "metadata": {
        "id": "1jy5mHLpfLU7",
        "colab_type": "code",
        "colab": {
          "base_uri": "https://localhost:8080/",
          "height": 118
        },
        "outputId": "dfeed10e-3e17-4de0-9e01-50d6f11644de"
      },
      "source": [
        "#4\n",
        "def loginHelper(userid,password):\n",
        "  inputid = input('Please enter your user Id:')\n",
        "  if inputid != userid: print('Incorrect UserId') ; return False\n",
        "  c=0\n",
        "  while c<3:\n",
        "    inputpassword = input('please enter your password: ')\n",
        "    if inputpassword == password: \n",
        "      print('log in succesful')\n",
        "      return True\n",
        "    c+=1\n",
        "  if c==3: print('account locked')\n",
        "  return False\n",
        "loginHelper('abc','aaa')\n"
      ],
      "execution_count": 14,
      "outputs": [
        {
          "output_type": "stream",
          "text": [
            "Please enter your user Id:abc\n",
            "please enter your passworda\n",
            "please enter your passworda\n",
            "please enter your passwordaaa\n",
            "log in succesful\n"
          ],
          "name": "stdout"
        },
        {
          "output_type": "execute_result",
          "data": {
            "text/plain": [
              "True"
            ]
          },
          "metadata": {
            "tags": []
          },
          "execution_count": 14
        }
      ]
    },
    {
      "cell_type": "markdown",
      "metadata": {
        "id": "dezkMCcohXlm",
        "colab_type": "text"
      },
      "source": [
        "Raise - It is used to manually raise exceptions. ''' raise MemoryError(\"This is an argument\") ''' When ever the code reaches the execution line of raise, it will raise the MemoryError excption with \"This is an argument\" as the explanation of the error\n",
        "\n",
        "Finally is the code block that is executed in every case, irrespective of passing or failing of the try statement."
      ]
    },
    {
      "cell_type": "code",
      "metadata": {
        "id": "a4O9bcHQlUQy",
        "colab_type": "code",
        "colab": {
          "base_uri": "https://localhost:8080/",
          "height": 34
        },
        "outputId": "436c18fd-a5dd-4369-d3bc-1c266c41cdc1"
      },
      "source": [
        "#6\n",
        "def even_reader(filename):\n",
        "  try:\n",
        "    file=open(filename,'r')\n",
        "  except OSError as error:\n",
        "    print(f'OS Error :{error}')\n",
        "  lines=file.readlines()\n",
        "  lines_=[]\n",
        "  for line in lines:\n",
        "    if not len(line.strip())%2:\n",
        "      lines_.append(line.strip())\n",
        "  return lines_\n",
        "\n",
        "even_reader('sample.txt')\n"
      ],
      "execution_count": 24,
      "outputs": [
        {
          "output_type": "execute_result",
          "data": {
            "text/plain": [
              "['Where you need to return the data string']"
            ]
          },
          "metadata": {
            "tags": []
          },
          "execution_count": 24
        }
      ]
    }
  ]
}