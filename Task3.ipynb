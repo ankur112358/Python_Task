{
  "nbformat": 4,
  "nbformat_minor": 0,
  "metadata": {
    "colab": {
      "name": "Untitled3.ipynb",
      "provenance": [],
      "authorship_tag": "ABX9TyM6eu2i87PJj5Rp6zqh81jf",
      "include_colab_link": true
    },
    "kernelspec": {
      "name": "python3",
      "display_name": "Python 3"
    }
  },
  "cells": [
    {
      "cell_type": "markdown",
      "metadata": {
        "id": "view-in-github",
        "colab_type": "text"
      },
      "source": [
        "<a href=\"https://colab.research.google.com/github/ankur112358/Python_Task/blob/master/Task3.ipynb\" target=\"_parent\"><img src=\"https://colab.research.google.com/assets/colab-badge.svg\" alt=\"Open In Colab\"/></a>"
      ]
    },
    {
      "cell_type": "code",
      "metadata": {
        "id": "ZWfv7zx7PB6_",
        "colab_type": "code",
        "colab": {}
      },
      "source": [
        "#1\n",
        "a=[x for x in range(6)]\n",
        "a+=['hello',7,14,7+10j]"
      ],
      "execution_count": 2,
      "outputs": []
    },
    {
      "cell_type": "code",
      "metadata": {
        "id": "szlHhys2PUeS",
        "colab_type": "code",
        "colab": {
          "base_uri": "https://localhost:8080/",
          "height": 34
        },
        "outputId": "3d4393b1-57ff-4256-ee0a-29d150fcaf53"
      },
      "source": [
        "#2\n",
        "a=a[:5]"
      ],
      "execution_count": 3,
      "outputs": [
        {
          "output_type": "execute_result",
          "data": {
            "text/plain": [
              "[0, 1, 2, 3, 4]"
            ]
          },
          "metadata": {
            "tags": []
          },
          "execution_count": 3
        }
      ]
    },
    {
      "cell_type": "code",
      "metadata": {
        "id": "tV21tswkPfDs",
        "colab_type": "code",
        "colab": {}
      },
      "source": [
        "#3\n",
        "s,m=0,1\n",
        "for x in a:\n",
        "  s+=x\n",
        "  m*=x"
      ],
      "execution_count": 4,
      "outputs": []
    },
    {
      "cell_type": "code",
      "metadata": {
        "id": "LR9CTeWOPydI",
        "colab_type": "code",
        "colab": {
          "base_uri": "https://localhost:8080/",
          "height": 34
        },
        "outputId": "e477effe-4173-46f0-a0eb-1b214a3b7613"
      },
      "source": [
        "#4\n",
        "import math\n",
        "m,M=math.inf,-math.inf\n",
        "for x in a:\n",
        "  if x<m: m=x\n",
        "  if x>M: M=x\n",
        "print(M,m)"
      ],
      "execution_count": 7,
      "outputs": [
        {
          "output_type": "stream",
          "text": [
            "4 0\n"
          ],
          "name": "stdout"
        }
      ]
    },
    {
      "cell_type": "code",
      "metadata": {
        "id": "hCCdtsMyQIk2",
        "colab_type": "code",
        "colab": {
          "base_uri": "https://localhost:8080/",
          "height": 34
        },
        "outputId": "560c88a4-8c40-4142-e7b3-0747ab53045c"
      },
      "source": [
        "#5\n",
        "a=[_ for _ in range(10)]\n",
        "i=0\n",
        "while i< len(a):\n",
        "  if a[i]%2==0: del a[i]; continue\n",
        "  i+=1\n",
        "a"
      ],
      "execution_count": 11,
      "outputs": [
        {
          "output_type": "execute_result",
          "data": {
            "text/plain": [
              "[1, 3, 5, 7, 9]"
            ]
          },
          "metadata": {
            "tags": []
          },
          "execution_count": 11
        }
      ]
    },
    {
      "cell_type": "code",
      "metadata": {
        "id": "RFRUjN9oQk9f",
        "colab_type": "code",
        "colab": {
          "base_uri": "https://localhost:8080/",
          "height": 34
        },
        "outputId": "d394b0c8-ae2e-4e15-b422-ae6ccaac9c81"
      },
      "source": [
        "#6\n",
        "a=[x**2 for x in range(1,31)]\n",
        "b=a[:5]+a[-5:]\n",
        "b"
      ],
      "execution_count": 12,
      "outputs": [
        {
          "output_type": "execute_result",
          "data": {
            "text/plain": [
              "[1, 4, 9, 16, 25, 676, 729, 784, 841, 900]"
            ]
          },
          "metadata": {
            "tags": []
          },
          "execution_count": 12
        }
      ]
    },
    {
      "cell_type": "code",
      "metadata": {
        "id": "b4L5_z_OQ9sg",
        "colab_type": "code",
        "colab": {
          "base_uri": "https://localhost:8080/",
          "height": 34
        },
        "outputId": "068bba27-bd22-476a-9a8b-d86fff9ee4b7"
      },
      "source": [
        "#7\n",
        "a,b=[1,3,5,7,9,10],[2,4,6,8]\n",
        "del a[-1]\n",
        "a+=b\n",
        "a"
      ],
      "execution_count": 13,
      "outputs": [
        {
          "output_type": "execute_result",
          "data": {
            "text/plain": [
              "[1, 3, 5, 7, 9, 2, 4, 6, 8]"
            ]
          },
          "metadata": {
            "tags": []
          },
          "execution_count": 13
        }
      ]
    },
    {
      "cell_type": "code",
      "metadata": {
        "id": "n6pGUCEORShq",
        "colab_type": "code",
        "colab": {
          "base_uri": "https://localhost:8080/",
          "height": 34
        },
        "outputId": "76fe915f-5b8b-4b64-b0c1-45ce9f614ecb"
      },
      "source": [
        "#8\n",
        "a={1:10,2:20}\n",
        "b={3:30,4:40}\n",
        "c={**a,**b}\n",
        "c"
      ],
      "execution_count": 16,
      "outputs": [
        {
          "output_type": "execute_result",
          "data": {
            "text/plain": [
              "{1: 10, 2: 20, 3: 30, 4: 40}"
            ]
          },
          "metadata": {
            "tags": []
          },
          "execution_count": 16
        }
      ]
    },
    {
      "cell_type": "code",
      "metadata": {
        "id": "y2ax_wyyRvbL",
        "colab_type": "code",
        "colab": {
          "base_uri": "https://localhost:8080/",
          "height": 51
        },
        "outputId": "71a62aea-ea2f-4119-c218-e5971b3849a8"
      },
      "source": [
        "#9\n",
        "n=int(input('enter the limit'))\n",
        "a={}\n",
        "for x in range(1,n+1):\n",
        "  a[x]=x**2\n",
        "a"
      ],
      "execution_count": 17,
      "outputs": [
        {
          "output_type": "stream",
          "text": [
            "enter the limit5\n"
          ],
          "name": "stdout"
        },
        {
          "output_type": "execute_result",
          "data": {
            "text/plain": [
              "{1: 1, 2: 4, 3: 9, 4: 16, 5: 25}"
            ]
          },
          "metadata": {
            "tags": []
          },
          "execution_count": 17
        }
      ]
    },
    {
      "cell_type": "code",
      "metadata": {
        "id": "yneqb_QQSNzG",
        "colab_type": "code",
        "colab": {
          "base_uri": "https://localhost:8080/",
          "height": 34
        },
        "outputId": "fc03cdbf-a5b9-4409-9fd2-a54a8864d7f0"
      },
      "source": [
        "#10\n",
        "test='34,67,55,33,12,98'\n",
        "test=input('Enter comma sepearated numbers')\n",
        "output1=[x.strip() for x in test.split(',') if x.strip()]\n",
        "output2=tuple(output1)\n"
      ],
      "execution_count": 24,
      "outputs": [
        {
          "output_type": "stream",
          "text": [
            "Enter comma sepearated numbers1,2,3,\n"
          ],
          "name": "stdout"
        }
      ]
    }
  ]
}