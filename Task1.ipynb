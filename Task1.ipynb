{
  "nbformat": 4,
  "nbformat_minor": 0,
  "metadata": {
    "colab": {
      "name": "Untitled0.ipynb",
      "provenance": [],
      "authorship_tag": "ABX9TyOkQqEdSIB7eawMaUOvZD0k",
      "include_colab_link": true
    },
    "kernelspec": {
      "name": "python3",
      "display_name": "Python 3"
    }
  },
  "cells": [
    {
      "cell_type": "markdown",
      "metadata": {
        "id": "view-in-github",
        "colab_type": "text"
      },
      "source": [
        "<a href=\"https://colab.research.google.com/github/ankur112358/Python_Task/blob/master/Task1.ipynb\" target=\"_parent\"><img src=\"https://colab.research.google.com/assets/colab-badge.svg\" alt=\"Open In Colab\"/></a>"
      ]
    },
    {
      "cell_type": "code",
      "metadata": {
        "id": "VW1v2FiLzREz",
        "colab_type": "code",
        "colab": {}
      },
      "source": [
        "#1\n",
        "a,b,c=7,3.14,'hello world'"
      ],
      "execution_count": 1,
      "outputs": []
    },
    {
      "cell_type": "code",
      "metadata": {
        "id": "bjEbj-FrzkTW",
        "colab_type": "code",
        "colab": {
          "base_uri": "https://localhost:8080/",
          "height": 51
        },
        "outputId": "0fc0ee6a-0a17-485b-dbb3-70206ebb7f2b"
      },
      "source": [
        "#2\n",
        "complex_=1j+2\n",
        "integer_=12\n",
        "complex_,integer_=integer_,complex_\n",
        "print(complex_,integer_)"
      ],
      "execution_count": 6,
      "outputs": [
        {
          "output_type": "stream",
          "text": [
            "12\n",
            "(2+1j)\n"
          ],
          "name": "stdout"
        }
      ]
    },
    {
      "cell_type": "code",
      "metadata": {
        "id": "KTv7lgR70oBF",
        "colab_type": "code",
        "colab": {
          "base_uri": "https://localhost:8080/",
          "height": 68
        },
        "outputId": "797cb336-761e-4d49-dd5b-cb9ad5bdf390"
      },
      "source": [
        "#3\n",
        "a,b=10,100\n",
        "print(a,b)\n",
        "result=a\n",
        "a=b\n",
        "b=result\n",
        "print(a,b)\n",
        "a,b=b,a\n",
        "print(a,b)"
      ],
      "execution_count": 8,
      "outputs": [
        {
          "output_type": "stream",
          "text": [
            "10 100\n",
            "100 10\n",
            "10 100\n"
          ],
          "name": "stdout"
        }
      ]
    },
    {
      "cell_type": "code",
      "metadata": {
        "id": "m_zhWtNr1UIN",
        "colab_type": "code",
        "colab": {
          "base_uri": "https://localhost:8080/",
          "height": 51
        },
        "outputId": "44e3963f-9aa9-48ee-ad24-e9aac43d5fd0"
      },
      "source": [
        "#4\n",
        "#python 3\n",
        "print(input(\"Enter a number\"))\n",
        "#python 2\n",
        "#print(raw_input(\"Enter a number\"))"
      ],
      "execution_count": 11,
      "outputs": [
        {
          "output_type": "stream",
          "text": [
            "Enter a number10\n",
            "10\n"
          ],
          "name": "stdout"
        }
      ]
    },
    {
      "cell_type": "code",
      "metadata": {
        "id": "2wfKgk_O2OvD",
        "colab_type": "code",
        "colab": {
          "base_uri": "https://localhost:8080/",
          "height": 68
        },
        "outputId": "f283c6e8-4185-4792-c35e-a75933b5fcdd"
      },
      "source": [
        "#5\n",
        "a,b=int(input(\"Enter a b/w 1-10:\")),int(input(\"Enter b b/w 1-10:\"))\n",
        "z=a+b+30\n",
        "print(z)"
      ],
      "execution_count": 13,
      "outputs": [
        {
          "output_type": "stream",
          "text": [
            "Enter a b/w 1-10:3\n",
            "Enter b b/w 1-10:6\n",
            "39\n"
          ],
          "name": "stdout"
        }
      ]
    },
    {
      "cell_type": "code",
      "metadata": {
        "id": "9efF4kuc4JNk",
        "colab_type": "code",
        "colab": {
          "base_uri": "https://localhost:8080/",
          "height": 85
        },
        "outputId": "bcebf3e0-7c68-4832-c509-37d22c1cef3d"
      },
      "source": [
        "#6\n",
        "a=1\n",
        "print(a, 'variable type-',type(a))\n",
        "a=1.1\n",
        "print(a, 'variable type-',type(a))\n",
        "a=\"1a\"\n",
        "print(a, 'variable type-',type(a))\n",
        "a=1+1j\n",
        "print(a, 'variable type-',type(a))"
      ],
      "execution_count": 17,
      "outputs": [
        {
          "output_type": "stream",
          "text": [
            "1 variable type- <class 'int'>\n",
            "1.1 variable type- <class 'float'>\n",
            "1a variable type- <class 'str'>\n",
            "(1+1j) variable type- <class 'complex'>\n"
          ],
          "name": "stdout"
        }
      ]
    },
    {
      "cell_type": "code",
      "metadata": {
        "id": "XwYIMNrW6_hA",
        "colab_type": "code",
        "colab": {
          "base_uri": "https://localhost:8080/",
          "height": 51
        },
        "outputId": "4038b5af-6971-4e4e-88cd-8ba5c8d23f58"
      },
      "source": [
        "#7 The variable previously containing int can be updated to contain a float or any other data type.\n",
        "a=1\n",
        "print(a, 'variable type-',type(a))\n",
        "a=1.1\n",
        "print(a, 'variable type-',type(a))"
      ],
      "execution_count": 18,
      "outputs": [
        {
          "output_type": "stream",
          "text": [
            "1 variable type- <class 'int'>\n",
            "1.1 variable type- <class 'float'>\n"
          ],
          "name": "stdout"
        }
      ]
    }
  ]
}