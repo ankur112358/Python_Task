{
  "nbformat": 4,
  "nbformat_minor": 0,
  "metadata": {
    "colab": {
      "name": "Untitled2.ipynb",
      "provenance": [],
      "authorship_tag": "ABX9TyNy1qxLs+xHuZe2TVCSgLuU",
      "include_colab_link": true
    },
    "kernelspec": {
      "name": "python3",
      "display_name": "Python 3"
    }
  },
  "cells": [
    {
      "cell_type": "markdown",
      "metadata": {
        "id": "view-in-github",
        "colab_type": "text"
      },
      "source": [
        "<a href=\"https://colab.research.google.com/github/ankur112358/Python_Task/blob/master/Task2.ipynb\" target=\"_parent\"><img src=\"https://colab.research.google.com/assets/colab-badge.svg\" alt=\"Open In Colab\"/></a>"
      ]
    },
    {
      "cell_type": "code",
      "metadata": {
        "id": "kxvQjBzo78dA",
        "colab_type": "code",
        "colab": {
          "base_uri": "https://localhost:8080/",
          "height": 85
        },
        "outputId": "706e2fc7-4d7b-4cc4-98cb-dc17188f1041"
      },
      "source": [
        "#1\n",
        "a=int(input(\"Enter a number\"))\n",
        "if a%3==0:\n",
        "  print('Consultadd')\n",
        "if a%5==0:\n",
        "  print('c')\n",
        "if a%3==0 and a%5==0:\n",
        "  print('Consultadd Python Training')"
      ],
      "execution_count": 1,
      "outputs": [
        {
          "output_type": "stream",
          "text": [
            "Enter a number15\n",
            "Consultadd\n",
            "c\n",
            "Consultadd Python Training\n"
          ],
          "name": "stdout"
        }
      ]
    },
    {
      "cell_type": "code",
      "metadata": {
        "id": "P91CZixV8n4M",
        "colab_type": "code",
        "colab": {
          "base_uri": "https://localhost:8080/",
          "height": 170
        },
        "outputId": "919471a7-2ddf-480c-fcb2-5aa9c20376c1"
      },
      "source": [
        "#2\n",
        "choice=int(input(\"Enter a choice:\\n1 - Addition \\n2 - Subtraction \\n3 - Division \\n4 -Multiplication \\n5 - Average\\n\"))\n",
        "first=int(input('enter the first variable\\n'))\n",
        "second=int(input('enter the second vaiable\\n'))\n",
        "if choice == 5:\n",
        "  first1=int(input('enter a number for avg calculation\\n'))\n",
        "  second2=int(input('enter another number fot avg calculation\\n'))\n",
        "  ans=(first+second+first1+second2)/4.0\n",
        "if choice==1: ans=first+second\n",
        "if choice==2: ans=first-second\n",
        "if choice==3: ans=float(first)/second\n",
        "if choice==4: ans=first*second\n",
        "if ans<0: print('Zsa')\n",
        "print(ans)"
      ],
      "execution_count": 1,
      "outputs": [
        {
          "output_type": "stream",
          "text": [
            "Enter a choice:\n",
            "1 - Addition \n",
            "2 - Subtraction \n",
            "3 - Division \n",
            "4 -Multiplication \n",
            "5 - Average3\n",
            "enter the first variable4\n",
            "enter the second vaiable2\n",
            "2.0\n"
          ],
          "name": "stdout"
        }
      ]
    },
    {
      "cell_type": "code",
      "metadata": {
        "id": "q-jrWvgqCfTI",
        "colab_type": "code",
        "colab": {
          "base_uri": "https://localhost:8080/",
          "height": 85
        },
        "outputId": "ae40c7ac-93a5-4c13-ede6-7dcc59fb10a8"
      },
      "source": [
        "#3\n",
        "age=int(input('Plz enter your age\\n'))\n",
        "if age>=11:\n",
        "  print('Youc can watch the football game')\n",
        "  if age<=20 or age>=60: print('Ticket price is $12')\n",
        "  else: print('Ticket pricce is $20')\n",
        "else: print('You can not buy a ticket')"
      ],
      "execution_count": 3,
      "outputs": [
        {
          "output_type": "stream",
          "text": [
            "Plz enter your age\n",
            "20\n",
            "Youc can watch the football game\n",
            "Ticket price is $12\n"
          ],
          "name": "stdout"
        }
      ]
    },
    {
      "cell_type": "code",
      "metadata": {
        "id": "ShnoQ64FDUUz",
        "colab_type": "code",
        "colab": {
          "base_uri": "https://localhost:8080/",
          "height": 68
        },
        "outputId": "9480bbd7-6d4c-47ef-ad7b-d5b56d27cc99"
      },
      "source": [
        "#4\n",
        "while True:\n",
        "  i=int(input('enter a number\\n'))\n",
        "  if i<0:\n",
        "    print('it's over')\n",
        "    break\n",
        "  else:\n",
        "    print('good going')"
      ],
      "execution_count": 4,
      "outputs": [
        {
          "output_type": "stream",
          "text": [
            "enter a number\n",
            "-5\n",
            "it is over\n"
          ],
          "name": "stdout"
        }
      ]
    },
    {
      "cell_type": "code",
      "metadata": {
        "id": "IbBzHqcUDtsV",
        "colab_type": "code",
        "colab": {
          "base_uri": "https://localhost:8080/",
          "height": 1000
        },
        "outputId": "96870422-3cd7-4914-a4f0-dcfdcc4e6545"
      },
      "source": [
        "#5\n",
        "a=[x  for x in range(2000,3201) if x%7==0 and x%5!=0]"
      ],
      "execution_count": 6,
      "outputs": [
        {
          "output_type": "execute_result",
          "data": {
            "text/plain": [
              "[2002,\n",
              " 2009,\n",
              " 2016,\n",
              " 2023,\n",
              " 2037,\n",
              " 2044,\n",
              " 2051,\n",
              " 2058,\n",
              " 2072,\n",
              " 2079,\n",
              " 2086,\n",
              " 2093,\n",
              " 2107,\n",
              " 2114,\n",
              " 2121,\n",
              " 2128,\n",
              " 2142,\n",
              " 2149,\n",
              " 2156,\n",
              " 2163,\n",
              " 2177,\n",
              " 2184,\n",
              " 2191,\n",
              " 2198,\n",
              " 2212,\n",
              " 2219,\n",
              " 2226,\n",
              " 2233,\n",
              " 2247,\n",
              " 2254,\n",
              " 2261,\n",
              " 2268,\n",
              " 2282,\n",
              " 2289,\n",
              " 2296,\n",
              " 2303,\n",
              " 2317,\n",
              " 2324,\n",
              " 2331,\n",
              " 2338,\n",
              " 2352,\n",
              " 2359,\n",
              " 2366,\n",
              " 2373,\n",
              " 2387,\n",
              " 2394,\n",
              " 2401,\n",
              " 2408,\n",
              " 2422,\n",
              " 2429,\n",
              " 2436,\n",
              " 2443,\n",
              " 2457,\n",
              " 2464,\n",
              " 2471,\n",
              " 2478,\n",
              " 2492,\n",
              " 2499,\n",
              " 2506,\n",
              " 2513,\n",
              " 2527,\n",
              " 2534,\n",
              " 2541,\n",
              " 2548,\n",
              " 2562,\n",
              " 2569,\n",
              " 2576,\n",
              " 2583,\n",
              " 2597,\n",
              " 2604,\n",
              " 2611,\n",
              " 2618,\n",
              " 2632,\n",
              " 2639,\n",
              " 2646,\n",
              " 2653,\n",
              " 2667,\n",
              " 2674,\n",
              " 2681,\n",
              " 2688,\n",
              " 2702,\n",
              " 2709,\n",
              " 2716,\n",
              " 2723,\n",
              " 2737,\n",
              " 2744,\n",
              " 2751,\n",
              " 2758,\n",
              " 2772,\n",
              " 2779,\n",
              " 2786,\n",
              " 2793,\n",
              " 2807,\n",
              " 2814,\n",
              " 2821,\n",
              " 2828,\n",
              " 2842,\n",
              " 2849,\n",
              " 2856,\n",
              " 2863,\n",
              " 2877,\n",
              " 2884,\n",
              " 2891,\n",
              " 2898,\n",
              " 2912,\n",
              " 2919,\n",
              " 2926,\n",
              " 2933,\n",
              " 2947,\n",
              " 2954,\n",
              " 2961,\n",
              " 2968,\n",
              " 2982,\n",
              " 2989,\n",
              " 2996,\n",
              " 3003,\n",
              " 3017,\n",
              " 3024,\n",
              " 3031,\n",
              " 3038,\n",
              " 3052,\n",
              " 3059,\n",
              " 3066,\n",
              " 3073,\n",
              " 3087,\n",
              " 3094,\n",
              " 3101,\n",
              " 3108,\n",
              " 3122,\n",
              " 3129,\n",
              " 3136,\n",
              " 3143,\n",
              " 3157,\n",
              " 3164,\n",
              " 3171,\n",
              " 3178,\n",
              " 3192,\n",
              " 3199]"
            ]
          },
          "metadata": {
            "tags": []
          },
          "execution_count": 6
        }
      ]
    },
    {
      "cell_type": "markdown",
      "metadata": {
        "id": "UCNtzEmXEm2t",
        "colab_type": "text"
      },
      "source": [
        "#6\n",
        "Here x can be treated as a list of char so the output will be - \n",
        "1\n",
        "2\n",
        "3\n",
        "each printed in a new line\n",
        "\n",
        "---\n",
        "Here the break condition is met so the else condition will not be executed\n",
        "out-\n",
        "0\n",
        "1\n",
        "2\n",
        "\n",
        "---\n",
        "Out-\n",
        "0\n",
        "1\n",
        "2\n",
        "3\n",
        "4\n",
        "\n",
        "\n"
      ]
    },
    {
      "cell_type": "code",
      "metadata": {
        "id": "DdJa3QaoFtxE",
        "colab_type": "code",
        "colab": {
          "base_uri": "https://localhost:8080/",
          "height": 102
        },
        "outputId": "291cd582-bee6-49ac-9b51-0e8861dff3bb"
      },
      "source": [
        "#7\n",
        "i=0\n",
        "while i<7:\n",
        "  if i==3 or i ==6:\n",
        "    i+=1\n",
        "    continue\n",
        "  print(i)\n",
        "  i+=1"
      ],
      "execution_count": 9,
      "outputs": [
        {
          "output_type": "stream",
          "text": [
            "0\n",
            "1\n",
            "2\n",
            "4\n",
            "5\n"
          ],
          "name": "stdout"
        }
      ]
    },
    {
      "cell_type": "code",
      "metadata": {
        "id": "n7QdIrDjGIup",
        "colab_type": "code",
        "colab": {
          "base_uri": "https://localhost:8080/",
          "height": 51
        },
        "outputId": "5ed4d269-a919-4382-ad75-ae64cfb73678"
      },
      "source": [
        "#8\n",
        "inp=input('enter the input')\n",
        "d=l=0\n",
        "for x in inp:\n",
        "  if x.isdigit():d+=1\n",
        "  elif x.isalpha():l+=1\n",
        "print(d,l)"
      ],
      "execution_count": 11,
      "outputs": [
        {
          "output_type": "stream",
          "text": [
            "enter the inputconsult123\n",
            "3 7\n"
          ],
          "name": "stdout"
        }
      ]
    },
    {
      "cell_type": "code",
      "metadata": {
        "id": "14xczpoKMZMq",
        "colab_type": "code",
        "colab": {
          "base_uri": "https://localhost:8080/",
          "height": 85
        },
        "outputId": "c774246f-7418-49c5-9e60-cbb5b7ccd61e"
      },
      "source": [
        "#9\n",
        "lucky=7\n",
        "while True:\n",
        "  inp=input('guess the number')\n",
        "  if int(inp)==lucky:\n",
        "    print('correct guess')\n",
        "    break\n",
        "  inp2=input('Wrong guess, try again?')\n",
        "  if 'no' in inp2:\n",
        "    break   "
      ],
      "execution_count": 12,
      "outputs": [
        {
          "output_type": "stream",
          "text": [
            "guess the number6\n",
            "Wrong guess, try again?\n",
            "guess the number7\n",
            "correct guess\n"
          ],
          "name": "stdout"
        }
      ]
    },
    {
      "cell_type": "code",
      "metadata": {
        "id": "_eXi-aXaNNLk",
        "colab_type": "code",
        "colab": {
          "base_uri": "https://localhost:8080/",
          "height": 272
        },
        "outputId": "de0f961d-a9ed-4f3f-aef5-d6b4f81ae86d"
      },
      "source": [
        "#10\n",
        "lucky=7\n",
        "i=0\n",
        "while i <5:\n",
        "  inp=int(input('guess the number\\n'))\n",
        "  if inp==lucky: print('Good guess')\n",
        "  else:print('try again')\n",
        "  i+=1\n",
        "print('Game Over')"
      ],
      "execution_count": 13,
      "outputs": [
        {
          "output_type": "stream",
          "text": [
            "guess the number\n",
            "4\n",
            "try again\n",
            "guess the number\n",
            "7\n",
            "Good guess\n",
            "guess the number\n",
            "10\n",
            "try again\n",
            "guess the number\n",
            "7\n",
            "Good guess\n",
            "guess the number\n",
            "7\n",
            "Good guess\n"
          ],
          "name": "stdout"
        }
      ]
    },
    {
      "cell_type": "code",
      "metadata": {
        "id": "K4mmPlJBN7SE",
        "colab_type": "code",
        "colab": {
          "base_uri": "https://localhost:8080/",
          "height": 306
        },
        "outputId": "e982b5c4-ddda-4fde-9b77-7333c8372359"
      },
      "source": [
        "#11\n",
        "lucky=7\n",
        "i=0\n",
        "while i<5:\n",
        "  inp=int(input('guess the number\\n'))\n",
        "  if inp==lucky: print('Good guess'); break\n",
        "  else: print('try again')\n",
        "  i+=1\n",
        "else:\n",
        "  print('Sorry but that was not very successful')\n",
        "print('Game Over')"
      ],
      "execution_count": 16,
      "outputs": [
        {
          "output_type": "stream",
          "text": [
            "guess the number\n",
            "1\n",
            "try again\n",
            "guess the number\n",
            "2\n",
            "try again\n",
            "guess the number\n",
            "3\n",
            "try again\n",
            "guess the number\n",
            "4\n",
            "try again\n",
            "guess the number\n",
            "5\n",
            "try again\n",
            "Sorry but that was not very successful\n",
            "Game Over\n"
          ],
          "name": "stdout"
        }
      ]
    }
  ]
}