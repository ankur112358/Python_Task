{
  "nbformat": 4,
  "nbformat_minor": 0,
  "metadata": {
    "colab": {
      "name": "Untitled4.ipynb",
      "provenance": [],
      "authorship_tag": "ABX9TyMuoC3Ao7B8mdP3P5Ibuoof",
      "include_colab_link": true
    },
    "kernelspec": {
      "name": "python3",
      "display_name": "Python 3"
    }
  },
  "cells": [
    {
      "cell_type": "markdown",
      "metadata": {
        "id": "view-in-github",
        "colab_type": "text"
      },
      "source": [
        "<a href=\"https://colab.research.google.com/github/ankur112358/Python_Task/blob/master/Weekend_activity.ipynb\" target=\"_parent\"><img src=\"https://colab.research.google.com/assets/colab-badge.svg\" alt=\"Open In Colab\"/></a>"
      ]
    },
    {
      "cell_type": "code",
      "metadata": {
        "id": "HMzEAkwxTbvO",
        "colab_type": "code",
        "colab": {
          "base_uri": "https://localhost:8080/",
          "height": 34
        },
        "outputId": "23981851-8dd9-491a-883c-d5c8a74f4839"
      },
      "source": [
        "#1\n",
        "i=c=0\n",
        "a=[]\n",
        "while True:\n",
        "  if i%2==0: a.append(i/2)\n",
        "  else: a.append(i/2.0)  \n",
        "  c+=1\n",
        "  if c==10:break\n",
        "  if i%3==0: a.append(i+3j)\n",
        "  else: a.append('Hello')\n",
        "  c+=1\n",
        "  i+=1\n",
        "  if c==10: break\n",
        "a\n"
      ],
      "execution_count": 3,
      "outputs": [
        {
          "output_type": "execute_result",
          "data": {
            "text/plain": [
              "[0.0, 3j, 0.5, 'Hello', 1.0, 'Hello', 1.5, (3+3j), 2.0, 'Hello']"
            ]
          },
          "metadata": {
            "tags": []
          },
          "execution_count": 3
        }
      ]
    },
    {
      "cell_type": "code",
      "metadata": {
        "id": "pUIp21HnU-pz",
        "colab_type": "code",
        "colab": {
          "base_uri": "https://localhost:8080/",
          "height": 34
        },
        "outputId": "7ec38cc7-a465-4f79-e213-a2c95bdfb46a"
      },
      "source": [
        "#2\n",
        "a=a[::2]\n",
        "a"
      ],
      "execution_count": 4,
      "outputs": [
        {
          "output_type": "execute_result",
          "data": {
            "text/plain": [
              "[0.0, 0.5, 1.0, 1.5, 2.0]"
            ]
          },
          "metadata": {
            "tags": []
          },
          "execution_count": 4
        }
      ]
    },
    {
      "cell_type": "code",
      "metadata": {
        "id": "YS4YvOchVILW",
        "colab_type": "code",
        "colab": {}
      },
      "source": [
        "#4 using a python 3 terminal so xrange commented\n",
        "i1=[x for x in range(1000)]\n",
        "# i2=[x for x in xrange(1000)]\n",
        "# i1==i2"
      ],
      "execution_count": 6,
      "outputs": []
    },
    {
      "cell_type": "code",
      "metadata": {
        "id": "VyKrISn2V4zk",
        "colab_type": "code",
        "colab": {
          "base_uri": "https://localhost:8080/",
          "height": 34
        },
        "outputId": "ac8a07ee-55b7-4da4-daf7-c9d579636a09"
      },
      "source": [
        "#5\n",
        "# Tuple is a static data structure and once created it can not be modified\n",
        "a,b=[1,2],(1,2)\n",
        "a[1],a[0]=a[0],a[1]\n",
        "# b[1],b[0]=b[0],b[1]\n",
        "a,b"
      ],
      "execution_count": 8,
      "outputs": [
        {
          "output_type": "execute_result",
          "data": {
            "text/plain": [
              "([2, 1], (1, 2))"
            ]
          },
          "metadata": {
            "tags": []
          },
          "execution_count": 8
        }
      ]
    },
    {
      "cell_type": "code",
      "metadata": {
        "id": "jtbjaSCBWSnp",
        "colab_type": "code",
        "colab": {}
      },
      "source": [
        "#6\n",
        "a=[x for x in range(1100) if x%3==0 and x%2==0]\n"
      ],
      "execution_count": 11,
      "outputs": []
    },
    {
      "cell_type": "code",
      "metadata": {
        "id": "1RMQT4F5Wkh9",
        "colab_type": "code",
        "colab": {
          "base_uri": "https://localhost:8080/",
          "height": 68
        },
        "outputId": "04584e42-d4cd-45fb-dbca-a9bc85371903"
      },
      "source": [
        "#7\n",
        "inp='Hello Word'\n",
        "\n",
        "for i,x in enumerate(reversed(inp)):\n",
        "  if x in {'a','e','i','o','u'}:\n",
        "    print(i,x)\n",
        "  "
      ],
      "execution_count": 12,
      "outputs": [
        {
          "output_type": "stream",
          "text": [
            "2 o\n",
            "5 o\n",
            "8 e\n"
          ],
          "name": "stdout"
        }
      ]
    },
    {
      "cell_type": "code",
      "metadata": {
        "id": "85RPuBjEW_-k",
        "colab_type": "code",
        "colab": {
          "base_uri": "https://localhost:8080/",
          "height": 34
        },
        "outputId": "2c89fa95-20f6-4c95-c450-912b957a89f4"
      },
      "source": [
        "#8\n",
        "inp='hello my name is Abcde'\n",
        "s=[x.strip() for x in inp.split(' ') if len(x.strip())%2==0]\n",
        "s"
      ],
      "execution_count": 14,
      "outputs": [
        {
          "output_type": "execute_result",
          "data": {
            "text/plain": [
              "['my', 'name', 'is']"
            ]
          },
          "metadata": {
            "tags": []
          },
          "execution_count": 14
        }
      ]
    },
    {
      "cell_type": "code",
      "metadata": {
        "id": "JgwM_5m9XTEI",
        "colab_type": "code",
        "colab": {
          "base_uri": "https://localhost:8080/",
          "height": 102
        },
        "outputId": "09d87ada-abf1-4971-9331-8acb1c301ef2"
      },
      "source": [
        "#9\n",
        "y={1,2,3,4,5,6,7,8,9,-1}\n",
        "x=[1,2,3,4,5,6,7,8,9,-1]\n",
        "visited=set()\n",
        "target=8\n",
        "for i in x:\n",
        "  if target-i in y and i not in visited:\n",
        "    # visited.add(i)\n",
        "    visited.add(target-i)\n",
        "    print(i,target-i)\n"
      ],
      "execution_count": 18,
      "outputs": [
        {
          "output_type": "stream",
          "text": [
            "1 7\n",
            "2 6\n",
            "3 5\n",
            "4 4\n",
            "9 -1\n"
          ],
          "name": "stdout"
        }
      ]
    },
    {
      "cell_type": "code",
      "metadata": {
        "id": "7sD8fqfzYGWm",
        "colab_type": "code",
        "colab": {
          "base_uri": "https://localhost:8080/",
          "height": 578
        },
        "outputId": "6c3767bc-e5cd-4410-ec2f-7672e53874d1"
      },
      "source": [
        "#10\n",
        "even,odd=[],[]\n",
        "while True:\n",
        "  inp=int(input('Enter a number in range 1 - 50\\n'))\n",
        "  print(len(odd),len(even))\n",
        "  # if not inp or (inp>0 and inp<=50):\n",
        "  #   continue\n",
        "  if inp%2==0 and len(even)<5: even.append(inp)\n",
        "  if inp%2!=0 and len(odd)<5: odd.append(inp)\n",
        "  if len(even)==5 and len(odd)==5: break\n",
        "print('Sum even list is ',sum(even), 'and the maximum element is', max(even))\n",
        "print('Sum odd list is ',sum(odd), 'and the maximum element is', max(odd))\n",
        "print('Totoal sum is ', sum(even)+sum(odd))\n",
        "\n",
        "  \n"
      ],
      "execution_count": 26,
      "outputs": [
        {
          "output_type": "stream",
          "text": [
            "Enter a number in range 1 - 50\n",
            "1\n",
            "0 0\n",
            "Enter a number in range 1 - 50\n",
            "2\n",
            "1 0\n",
            "Enter a number in range 1 - 50\n",
            "3\n",
            "1 1\n",
            "Enter a number in range 1 - 50\n",
            "4\n",
            "2 1\n",
            "Enter a number in range 1 - 50\n",
            "5\n",
            "2 2\n",
            "Enter a number in range 1 - 50\n",
            "6\n",
            "3 2\n",
            "Enter a number in range 1 - 50\n",
            "7\n",
            "3 3\n",
            "Enter a number in range 1 - 50\n",
            "8\n",
            "4 3\n",
            "Enter a number in range 1 - 50\n",
            "9\n",
            "4 4\n",
            "Enter a number in range 1 - 50\n",
            "10\n",
            "5 4\n",
            "Sum even list is  30 and the maximum element is 10\n",
            "Sum odd list is  25 and the maximum element is 9\n",
            "Totoal sum is  55\n"
          ],
          "name": "stdout"
        }
      ]
    },
    {
      "cell_type": "code",
      "metadata": {
        "id": "whGrN8BPafQ8",
        "colab_type": "code",
        "colab": {
          "base_uri": "https://localhost:8080/",
          "height": 68
        },
        "outputId": "b51fd829-a4b3-49e2-900c-4f8c1bb14fce"
      },
      "source": [
        "#11\n",
        "import collections\n",
        "test='12abcbacbaba344ab' \n",
        "c=collections.Counter(test)\n",
        "for x in c:\n",
        "  if x.isalpha():\n",
        "    print(x,c[x])"
      ],
      "execution_count": 27,
      "outputs": [
        {
          "output_type": "stream",
          "text": [
            "a 5\n",
            "b 5\n",
            "c 2\n"
          ],
          "name": "stdout"
        }
      ]
    },
    {
      "cell_type": "code",
      "metadata": {
        "id": "YOkCko32a76w",
        "colab_type": "code",
        "colab": {}
      },
      "source": [
        "#12\n",
        "a= (1,2,3,4,5,6,7,8,9,10)\n",
        "out=[]\n",
        "for x in a:\n",
        "  if x%2==0:\n",
        "    out.append(x)\n",
        "out=tuple(out)\n"
      ],
      "execution_count": 30,
      "outputs": []
    }
  ]
}