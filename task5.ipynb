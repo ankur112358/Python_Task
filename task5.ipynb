{
  "nbformat": 4,
  "nbformat_minor": 0,
  "metadata": {
    "colab": {
      "name": "task5.ipynb",
      "provenance": [],
      "authorship_tag": "ABX9TyPZV+d4EMuhJd6Vj7cxdsV8",
      "include_colab_link": true
    },
    "kernelspec": {
      "name": "python3",
      "display_name": "Python 3"
    }
  },
  "cells": [
    {
      "cell_type": "markdown",
      "metadata": {
        "id": "view-in-github",
        "colab_type": "text"
      },
      "source": [
        "<a href=\"https://colab.research.google.com/github/ankur112358/Python_Task/blob/master/task5.ipynb\" target=\"_parent\"><img src=\"https://colab.research.google.com/assets/colab-badge.svg\" alt=\"Open In Colab\"/></a>"
      ]
    },
    {
      "cell_type": "code",
      "metadata": {
        "id": "vMg2_SVbAJle",
        "colab_type": "code",
        "colab": {
          "base_uri": "https://localhost:8080/",
          "height": 34
        },
        "outputId": "ad6ee1ea-ff35-4552-f70f-1201252ad54d"
      },
      "source": [
        "#1\n",
        "l=[_ for _ in range(100)]\n",
        "l=list(filter( lambda x :  x%3 and not x%7, l))\n",
        "print(l)"
      ],
      "execution_count": null,
      "outputs": [
        {
          "output_type": "stream",
          "text": [
            "[7, 14, 28, 35, 49, 56, 70, 77, 91, 98]\n"
          ],
          "name": "stdout"
        }
      ]
    },
    {
      "cell_type": "code",
      "metadata": {
        "id": "zhfk6RFfCD-f",
        "colab_type": "code",
        "colab": {
          "base_uri": "https://localhost:8080/",
          "height": 34
        },
        "outputId": "3edda968-ba4d-481a-e8aa-72cef59fabec"
      },
      "source": [
        "#2\n",
        "l=[_ for _ in range(1,5)]\n",
        "prod=1\n",
        "def product(x):\n",
        "  global prod\n",
        "  prod *= x\n",
        "  return\n",
        "t=list(map(product,l))\n",
        "print(prod)"
      ],
      "execution_count": null,
      "outputs": [
        {
          "output_type": "stream",
          "text": [
            "24\n"
          ],
          "name": "stdout"
        }
      ]
    },
    {
      "cell_type": "code",
      "metadata": {
        "id": "vzrGfpD5D11N",
        "colab_type": "code",
        "colab": {
          "base_uri": "https://localhost:8080/",
          "height": 34
        },
        "outputId": "eebb7579-ce78-4bf8-8579-2774c3e6719a"
      },
      "source": [
        "#3\n",
        "st='AdsfdsSAFssfASdfas'\n",
        "cap=[x for x in st if x.isupper()]\n",
        "cap"
      ],
      "execution_count": null,
      "outputs": [
        {
          "output_type": "execute_result",
          "data": {
            "text/plain": [
              "['A', 'S', 'A', 'F', 'A', 'S']"
            ]
          },
          "metadata": {
            "tags": []
          },
          "execution_count": 22
        }
      ]
    },
    {
      "cell_type": "code",
      "metadata": {
        "id": "3XMExwVMEhZz",
        "colab_type": "code",
        "colab": {
          "base_uri": "https://localhost:8080/",
          "height": 51
        },
        "outputId": "cf86393d-c5c1-401f-a17f-0f864b7391a2"
      },
      "source": [
        "#4\n",
        "Student = ['Smit', 'Jaya', 'Rayyan']\n",
        "Subject = ['CSE', 'Networking', 'Operating System']\n",
        "dic={Student[i]:Subject[i] for i in range(len(Student))}\n",
        "print(dic)\n",
        "dic=dict(zip(Student,Subject))\n",
        "dic"
      ],
      "execution_count": null,
      "outputs": [
        {
          "output_type": "stream",
          "text": [
            "{'Smit': 'CSE', 'Jaya': 'Networking', 'Rayyan': 'Operating System'}\n"
          ],
          "name": "stdout"
        },
        {
          "output_type": "execute_result",
          "data": {
            "text/plain": [
              "{'Jaya': 'Networking', 'Rayyan': 'Operating System', 'Smit': 'CSE'}"
            ]
          },
          "metadata": {
            "tags": []
          },
          "execution_count": 25
        }
      ]
    },
    {
      "cell_type": "markdown",
      "metadata": {
        "id": "AUnTXbO1GnCb",
        "colab_type": "text"
      },
      "source": [
        "Yield is used to create iterators\n",
        "\n",
        "```\n",
        "# This is formatted as code\n",
        "```\n",
        "\n"
      ]
    },
    {
      "cell_type": "code",
      "metadata": {
        "id": "UQsu8OaAHTtD",
        "colab_type": "code",
        "colab": {
          "base_uri": "https://localhost:8080/",
          "height": 34
        },
        "outputId": "9ee21f8a-7931-4352-a163-41c52f754d4e"
      },
      "source": [
        "#6\n",
        "def rev(string):\n",
        "  for x in reversed(string):\n",
        "    yield x\n",
        "s=''\n",
        "string='Consultadd Training'\n",
        "f=rev(string)\n",
        "while True:\n",
        "  try:\n",
        "    current=next(f)\n",
        "    s+=current\n",
        "  except:\n",
        "    break\n",
        "print(s)\n"
      ],
      "execution_count": null,
      "outputs": [
        {
          "output_type": "stream",
          "text": [
            "gniniarT ddatlusnoC\n"
          ],
          "name": "stdout"
        }
      ]
    },
    {
      "cell_type": "code",
      "metadata": {
        "id": "rtFGZFuOLUXu",
        "colab_type": "code",
        "colab": {
          "base_uri": "https://localhost:8080/",
          "height": 51
        },
        "outputId": "46b7e719-e3d3-4ac3-a10d-cdcaca82da46"
      },
      "source": [
        "#7\n",
        "def zeroCheck(function):\n",
        "  def first(a,b):\n",
        "    if not b: print('the dividend is zero'); return\n",
        "    else: return function(a,b)\n",
        "  return first \n",
        "\n",
        "def devide(a,b):\n",
        "  return a/b\n",
        "\n",
        "devide=zeroCheck(devide)\n",
        "print(devide(5,0))"
      ],
      "execution_count": null,
      "outputs": [
        {
          "output_type": "stream",
          "text": [
            "the dividend is zero\n",
            "None\n"
          ],
          "name": "stdout"
        }
      ]
    },
    {
      "cell_type": "markdown",
      "metadata": {
        "id": "Vak7YspeXguJ",
        "colab_type": "text"
      },
      "source": [
        "Front-end development is the work on the visual, client-facing aspects of an application or website – the user interface and related. These programmers will focus on the end-user experience and will specialize in HTML, CSS, JavaScript, and the various APIs and frameworks like CherryPy, Flask  and Django. These can be used to implement the interactive elements of development.\n",
        "Comapanies that use these framworks.\n",
        "\n",
        "CherryPy - Rain - A Tribute to the Beatles\n",
        "\n",
        "Django - The Marketing Eye\n",
        "\n",
        "Flask - Close.io\n",
        "\n",
        "JavaScript - National Audubon Society, Inc."
      ]
    }
  ]
}